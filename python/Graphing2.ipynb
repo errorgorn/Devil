{
 "cells": [
  {
   "cell_type": "code",
   "execution_count": 50,
   "id": "672d3239",
   "metadata": {},
   "outputs": [],
   "source": [
    "import numpy as np\n",
    "import pandas as pd\n",
    "import matplotlib.pyplot as plt\n",
    "import seaborn as sns\n",
    "\n",
    "from scipy.stats import chisquare"
   ]
  },
  {
   "cell_type": "code",
   "execution_count": 22,
   "id": "2c2deaef",
   "metadata": {},
   "outputs": [],
   "source": [
    "def load(i):\n",
    "    f=open(\"../dump/\"+str(i)+\".txt\")\n",
    "    return [int(x.split()[-1]) for x in f.read().split(\"\\n\")[:-1]]"
   ]
  },
  {
   "cell_type": "code",
   "execution_count": 24,
   "id": "c6e56397",
   "metadata": {},
   "outputs": [],
   "source": [
    "ord1=load(\"ord3_01\")"
   ]
  },
  {
   "cell_type": "code",
   "execution_count": 25,
   "id": "91ce8603",
   "metadata": {},
   "outputs": [],
   "source": [
    "ord2=load(\"ord3_02\")"
   ]
  },
  {
   "cell_type": "code",
   "execution_count": 69,
   "id": "d7f009d3",
   "metadata": {},
   "outputs": [],
   "source": [
    "ord3=load(\"ord3_01(2)\")"
   ]
  },
  {
   "cell_type": "code",
   "execution_count": 75,
   "id": "99e9b017",
   "metadata": {},
   "outputs": [
    {
     "data": {
      "text/html": [
       "<div>\n",
       "<style scoped>\n",
       "    .dataframe tbody tr th:only-of-type {\n",
       "        vertical-align: middle;\n",
       "    }\n",
       "\n",
       "    .dataframe tbody tr th {\n",
       "        vertical-align: top;\n",
       "    }\n",
       "\n",
       "    .dataframe thead th {\n",
       "        text-align: right;\n",
       "    }\n",
       "</style>\n",
       "<table border=\"1\" class=\"dataframe\">\n",
       "  <thead>\n",
       "    <tr style=\"text-align: right;\">\n",
       "      <th></th>\n",
       "      <th>0</th>\n",
       "      <th>1</th>\n",
       "      <th>2</th>\n",
       "      <th>3</th>\n",
       "      <th>4</th>\n",
       "      <th>5</th>\n",
       "      <th>6</th>\n",
       "      <th>7</th>\n",
       "      <th>8</th>\n",
       "      <th>9</th>\n",
       "      <th>...</th>\n",
       "      <th>2990</th>\n",
       "      <th>2991</th>\n",
       "      <th>2992</th>\n",
       "      <th>2993</th>\n",
       "      <th>2994</th>\n",
       "      <th>2995</th>\n",
       "      <th>2996</th>\n",
       "      <th>2997</th>\n",
       "      <th>2998</th>\n",
       "      <th>2999</th>\n",
       "    </tr>\n",
       "  </thead>\n",
       "  <tbody>\n",
       "    <tr>\n",
       "      <th>0</th>\n",
       "      <td>0</td>\n",
       "      <td>0</td>\n",
       "      <td>0</td>\n",
       "      <td>0</td>\n",
       "      <td>8</td>\n",
       "      <td>0</td>\n",
       "      <td>332</td>\n",
       "      <td>0</td>\n",
       "      <td>52</td>\n",
       "      <td>101</td>\n",
       "      <td>...</td>\n",
       "      <td>0</td>\n",
       "      <td>0</td>\n",
       "      <td>0</td>\n",
       "      <td>0</td>\n",
       "      <td>0</td>\n",
       "      <td>0</td>\n",
       "      <td>0</td>\n",
       "      <td>0</td>\n",
       "      <td>0</td>\n",
       "      <td>0</td>\n",
       "    </tr>\n",
       "    <tr>\n",
       "      <th>1</th>\n",
       "      <td>0</td>\n",
       "      <td>0</td>\n",
       "      <td>0</td>\n",
       "      <td>0</td>\n",
       "      <td>10</td>\n",
       "      <td>0</td>\n",
       "      <td>346</td>\n",
       "      <td>0</td>\n",
       "      <td>719</td>\n",
       "      <td>140</td>\n",
       "      <td>...</td>\n",
       "      <td>0</td>\n",
       "      <td>0</td>\n",
       "      <td>0</td>\n",
       "      <td>0</td>\n",
       "      <td>0</td>\n",
       "      <td>0</td>\n",
       "      <td>0</td>\n",
       "      <td>0</td>\n",
       "      <td>0</td>\n",
       "      <td>0</td>\n",
       "    </tr>\n",
       "  </tbody>\n",
       "</table>\n",
       "<p>2 rows × 3000 columns</p>\n",
       "</div>"
      ],
      "text/plain": [
       "   0     1     2     3     4     5     6     7     8     9     ...  2990  \\\n",
       "0     0     0     0     0     8     0   332     0    52   101  ...     0   \n",
       "1     0     0     0     0    10     0   346     0   719   140  ...     0   \n",
       "\n",
       "   2991  2992  2993  2994  2995  2996  2997  2998  2999  \n",
       "0     0     0     0     0     0     0     0     0     0  \n",
       "1     0     0     0     0     0     0     0     0     0  \n",
       "\n",
       "[2 rows x 3000 columns]"
      ]
     },
     "execution_count": 75,
     "metadata": {},
     "output_type": "execute_result"
    }
   ],
   "source": [
    "df=pd.DataFrame([ord1,ord2])\n",
    "df"
   ]
  },
  {
   "cell_type": "code",
   "execution_count": 76,
   "id": "5e4e0ee8",
   "metadata": {},
   "outputs": [
    {
     "data": {
      "text/html": [
       "<div>\n",
       "<style scoped>\n",
       "    .dataframe tbody tr th:only-of-type {\n",
       "        vertical-align: middle;\n",
       "    }\n",
       "\n",
       "    .dataframe tbody tr th {\n",
       "        vertical-align: top;\n",
       "    }\n",
       "\n",
       "    .dataframe thead th {\n",
       "        text-align: right;\n",
       "    }\n",
       "</style>\n",
       "<table border=\"1\" class=\"dataframe\">\n",
       "  <thead>\n",
       "    <tr style=\"text-align: right;\">\n",
       "      <th></th>\n",
       "      <th>4</th>\n",
       "      <th>6</th>\n",
       "      <th>8</th>\n",
       "      <th>9</th>\n",
       "      <th>10</th>\n",
       "      <th>12</th>\n",
       "      <th>14</th>\n",
       "      <th>15</th>\n",
       "      <th>16</th>\n",
       "      <th>18</th>\n",
       "      <th>...</th>\n",
       "      <th>420</th>\n",
       "      <th>462</th>\n",
       "      <th>495</th>\n",
       "      <th>504</th>\n",
       "      <th>630</th>\n",
       "      <th>660</th>\n",
       "      <th>720</th>\n",
       "      <th>840</th>\n",
       "      <th>990</th>\n",
       "      <th>1260</th>\n",
       "    </tr>\n",
       "  </thead>\n",
       "  <tbody>\n",
       "    <tr>\n",
       "      <th>0</th>\n",
       "      <td>8</td>\n",
       "      <td>332</td>\n",
       "      <td>52</td>\n",
       "      <td>101</td>\n",
       "      <td>136</td>\n",
       "      <td>7327</td>\n",
       "      <td>66</td>\n",
       "      <td>15</td>\n",
       "      <td>40</td>\n",
       "      <td>2910</td>\n",
       "      <td>...</td>\n",
       "      <td>3086</td>\n",
       "      <td>429</td>\n",
       "      <td>0</td>\n",
       "      <td>610</td>\n",
       "      <td>420</td>\n",
       "      <td>299</td>\n",
       "      <td>0</td>\n",
       "      <td>596</td>\n",
       "      <td>0</td>\n",
       "      <td>415</td>\n",
       "    </tr>\n",
       "    <tr>\n",
       "      <th>1</th>\n",
       "      <td>10</td>\n",
       "      <td>346</td>\n",
       "      <td>719</td>\n",
       "      <td>140</td>\n",
       "      <td>91</td>\n",
       "      <td>5421</td>\n",
       "      <td>51</td>\n",
       "      <td>41</td>\n",
       "      <td>329</td>\n",
       "      <td>3182</td>\n",
       "      <td>...</td>\n",
       "      <td>2241</td>\n",
       "      <td>847</td>\n",
       "      <td>406</td>\n",
       "      <td>515</td>\n",
       "      <td>902</td>\n",
       "      <td>0</td>\n",
       "      <td>301</td>\n",
       "      <td>550</td>\n",
       "      <td>406</td>\n",
       "      <td>118</td>\n",
       "    </tr>\n",
       "  </tbody>\n",
       "</table>\n",
       "<p>2 rows × 70 columns</p>\n",
       "</div>"
      ],
      "text/plain": [
       "   4     6     8     9     10    12    14    15    16    18    ...  420   \\\n",
       "0     8   332    52   101   136  7327    66    15    40  2910  ...  3086   \n",
       "1    10   346   719   140    91  5421    51    41   329  3182  ...  2241   \n",
       "\n",
       "   462   495   504   630   660   720   840   990   1260  \n",
       "0   429     0   610   420   299     0   596     0   415  \n",
       "1   847   406   515   902     0   301   550   406   118  \n",
       "\n",
       "[2 rows x 70 columns]"
      ]
     },
     "execution_count": 76,
     "metadata": {},
     "output_type": "execute_result"
    }
   ],
   "source": [
    "df=df.loc[:, (df != 0).any(axis=0)]\n",
    "df"
   ]
  },
  {
   "cell_type": "code",
   "execution_count": 77,
   "id": "5d6eff78",
   "metadata": {},
   "outputs": [],
   "source": [
    "p1=df.iloc[0]\n",
    "p2=df.iloc[1]"
   ]
  },
  {
   "cell_type": "code",
   "execution_count": 78,
   "id": "9d1b623c",
   "metadata": {},
   "outputs": [
    {
     "data": {
      "image/png": "[encoded data removed]",
      "text/plain": [
       "<Figure size 432x288 with 1 Axes>"
      ]
     },
     "metadata": {
      "needs_background": "light"
     },
     "output_type": "display_data"
    }
   ],
   "source": [
    "sns.barplot(x=np.arange(70),y=p1)\n",
    "plt.yscale('log')"
   ]
  },
  {
   "cell_type": "code",
   "execution_count": 79,
   "id": "099f0f06",
   "metadata": {},
   "outputs": [
    {
     "data": {
      "image/png": "[encoded data removed]",
      "text/plain": [
       "<Figure size 432x288 with 1 Axes>"
      ]
     },
     "metadata": {
      "needs_background": "light"
     },
     "output_type": "display_data"
    }
   ],
   "source": [
    "sns.barplot(x=np.arange(70),y=p2)\n",
    "plt.yscale('log')"
   ]
  },
  {
   "cell_type": "code",
   "execution_count": 80,
   "id": "cd418cd9",
   "metadata": {},
   "outputs": [
    {
     "data": {
      "text/plain": [
       "Power_divergenceResult(statistic=5620.968811426424, pvalue=0.0)"
      ]
     },
     "execution_count": 80,
     "metadata": {},
     "output_type": "execute_result"
    }
   ],
   "source": [
    "chisquare(p1,f_exp=(p1+p2)/2)"
   ]
  },
  {
   "cell_type": "code",
   "execution_count": 81,
   "id": "6bb10616",
   "metadata": {},
   "outputs": [
    {
     "data": {
      "text/plain": [
       "Power_divergenceResult(statistic=5620.968811426424, pvalue=0.0)"
      ]
     },
     "execution_count": 81,
     "metadata": {},
     "output_type": "execute_result"
    }
   ],
   "source": [
    "chisquare(p2,f_exp=(p1+p2)/2)"
   ]
  },
  {
   "cell_type": "code",
   "execution_count": null,
   "id": "1b1d4874",
   "metadata": {},
   "outputs": [],
   "source": []
  },
  {
   "cell_type": "code",
   "execution_count": null,
   "id": "6f90198d",
   "metadata": {},
   "outputs": [],
   "source": []
  },
  {
   "cell_type": "code",
   "execution_count": 82,
   "id": "60b6318f",
   "metadata": {},
   "outputs": [
    {
     "data": {
      "text/html": [
       "<div>\n",
       "<style scoped>\n",
       "    .dataframe tbody tr th:only-of-type {\n",
       "        vertical-align: middle;\n",
       "    }\n",
       "\n",
       "    .dataframe tbody tr th {\n",
       "        vertical-align: top;\n",
       "    }\n",
       "\n",
       "    .dataframe thead th {\n",
       "        text-align: right;\n",
       "    }\n",
       "</style>\n",
       "<table border=\"1\" class=\"dataframe\">\n",
       "  <thead>\n",
       "    <tr style=\"text-align: right;\">\n",
       "      <th></th>\n",
       "      <th>0</th>\n",
       "      <th>1</th>\n",
       "      <th>2</th>\n",
       "      <th>3</th>\n",
       "      <th>4</th>\n",
       "      <th>5</th>\n",
       "      <th>6</th>\n",
       "      <th>7</th>\n",
       "      <th>8</th>\n",
       "      <th>9</th>\n",
       "      <th>...</th>\n",
       "      <th>2990</th>\n",
       "      <th>2991</th>\n",
       "      <th>2992</th>\n",
       "      <th>2993</th>\n",
       "      <th>2994</th>\n",
       "      <th>2995</th>\n",
       "      <th>2996</th>\n",
       "      <th>2997</th>\n",
       "      <th>2998</th>\n",
       "      <th>2999</th>\n",
       "    </tr>\n",
       "  </thead>\n",
       "  <tbody>\n",
       "    <tr>\n",
       "      <th>0</th>\n",
       "      <td>0</td>\n",
       "      <td>0</td>\n",
       "      <td>0</td>\n",
       "      <td>0</td>\n",
       "      <td>8</td>\n",
       "      <td>0</td>\n",
       "      <td>332</td>\n",
       "      <td>0</td>\n",
       "      <td>52</td>\n",
       "      <td>101</td>\n",
       "      <td>...</td>\n",
       "      <td>0</td>\n",
       "      <td>0</td>\n",
       "      <td>0</td>\n",
       "      <td>0</td>\n",
       "      <td>0</td>\n",
       "      <td>0</td>\n",
       "      <td>0</td>\n",
       "      <td>0</td>\n",
       "      <td>0</td>\n",
       "      <td>0</td>\n",
       "    </tr>\n",
       "    <tr>\n",
       "      <th>1</th>\n",
       "      <td>0</td>\n",
       "      <td>0</td>\n",
       "      <td>0</td>\n",
       "      <td>0</td>\n",
       "      <td>7</td>\n",
       "      <td>0</td>\n",
       "      <td>376</td>\n",
       "      <td>0</td>\n",
       "      <td>60</td>\n",
       "      <td>105</td>\n",
       "      <td>...</td>\n",
       "      <td>0</td>\n",
       "      <td>0</td>\n",
       "      <td>0</td>\n",
       "      <td>0</td>\n",
       "      <td>0</td>\n",
       "      <td>0</td>\n",
       "      <td>0</td>\n",
       "      <td>0</td>\n",
       "      <td>0</td>\n",
       "      <td>0</td>\n",
       "    </tr>\n",
       "  </tbody>\n",
       "</table>\n",
       "<p>2 rows × 3000 columns</p>\n",
       "</div>"
      ],
      "text/plain": [
       "   0     1     2     3     4     5     6     7     8     9     ...  2990  \\\n",
       "0     0     0     0     0     8     0   332     0    52   101  ...     0   \n",
       "1     0     0     0     0     7     0   376     0    60   105  ...     0   \n",
       "\n",
       "   2991  2992  2993  2994  2995  2996  2997  2998  2999  \n",
       "0     0     0     0     0     0     0     0     0     0  \n",
       "1     0     0     0     0     0     0     0     0     0  \n",
       "\n",
       "[2 rows x 3000 columns]"
      ]
     },
     "execution_count": 82,
     "metadata": {},
     "output_type": "execute_result"
    }
   ],
   "source": [
    "df=pd.DataFrame([ord1,ord3])\n",
    "df"
   ]
  },
  {
   "cell_type": "code",
   "execution_count": 83,
   "id": "fa953cd0",
   "metadata": {},
   "outputs": [
    {
     "data": {
      "text/html": [
       "<div>\n",
       "<style scoped>\n",
       "    .dataframe tbody tr th:only-of-type {\n",
       "        vertical-align: middle;\n",
       "    }\n",
       "\n",
       "    .dataframe tbody tr th {\n",
       "        vertical-align: top;\n",
       "    }\n",
       "\n",
       "    .dataframe thead th {\n",
       "        text-align: right;\n",
       "    }\n",
       "</style>\n",
       "<table border=\"1\" class=\"dataframe\">\n",
       "  <thead>\n",
       "    <tr style=\"text-align: right;\">\n",
       "      <th></th>\n",
       "      <th>4</th>\n",
       "      <th>6</th>\n",
       "      <th>8</th>\n",
       "      <th>9</th>\n",
       "      <th>10</th>\n",
       "      <th>12</th>\n",
       "      <th>14</th>\n",
       "      <th>15</th>\n",
       "      <th>16</th>\n",
       "      <th>18</th>\n",
       "      <th>...</th>\n",
       "      <th>336</th>\n",
       "      <th>360</th>\n",
       "      <th>396</th>\n",
       "      <th>420</th>\n",
       "      <th>462</th>\n",
       "      <th>504</th>\n",
       "      <th>630</th>\n",
       "      <th>660</th>\n",
       "      <th>840</th>\n",
       "      <th>1260</th>\n",
       "    </tr>\n",
       "  </thead>\n",
       "  <tbody>\n",
       "    <tr>\n",
       "      <th>0</th>\n",
       "      <td>8</td>\n",
       "      <td>332</td>\n",
       "      <td>52</td>\n",
       "      <td>101</td>\n",
       "      <td>136</td>\n",
       "      <td>7327</td>\n",
       "      <td>66</td>\n",
       "      <td>15</td>\n",
       "      <td>40</td>\n",
       "      <td>2910</td>\n",
       "      <td>...</td>\n",
       "      <td>616</td>\n",
       "      <td>784</td>\n",
       "      <td>1261</td>\n",
       "      <td>3086</td>\n",
       "      <td>429</td>\n",
       "      <td>610</td>\n",
       "      <td>420</td>\n",
       "      <td>299</td>\n",
       "      <td>596</td>\n",
       "      <td>415</td>\n",
       "    </tr>\n",
       "    <tr>\n",
       "      <th>1</th>\n",
       "      <td>7</td>\n",
       "      <td>376</td>\n",
       "      <td>60</td>\n",
       "      <td>105</td>\n",
       "      <td>120</td>\n",
       "      <td>7228</td>\n",
       "      <td>63</td>\n",
       "      <td>33</td>\n",
       "      <td>38</td>\n",
       "      <td>2877</td>\n",
       "      <td>...</td>\n",
       "      <td>567</td>\n",
       "      <td>786</td>\n",
       "      <td>1246</td>\n",
       "      <td>3010</td>\n",
       "      <td>397</td>\n",
       "      <td>531</td>\n",
       "      <td>409</td>\n",
       "      <td>282</td>\n",
       "      <td>568</td>\n",
       "      <td>403</td>\n",
       "    </tr>\n",
       "  </tbody>\n",
       "</table>\n",
       "<p>2 rows × 67 columns</p>\n",
       "</div>"
      ],
      "text/plain": [
       "   4     6     8     9     10    12    14    15    16    18    ...  336   \\\n",
       "0     8   332    52   101   136  7327    66    15    40  2910  ...   616   \n",
       "1     7   376    60   105   120  7228    63    33    38  2877  ...   567   \n",
       "\n",
       "   360   396   420   462   504   630   660   840   1260  \n",
       "0   784  1261  3086   429   610   420   299   596   415  \n",
       "1   786  1246  3010   397   531   409   282   568   403  \n",
       "\n",
       "[2 rows x 67 columns]"
      ]
     },
     "execution_count": 83,
     "metadata": {},
     "output_type": "execute_result"
    }
   ],
   "source": [
    "df=df.loc[:, (df != 0).any(axis=0)]\n",
    "df"
   ]
  },
  {
   "cell_type": "code",
   "execution_count": 84,
   "id": "a8d81aa9",
   "metadata": {},
   "outputs": [],
   "source": [
    "p1=df.iloc[0]\n",
    "p2=df.iloc[1]"
   ]
  },
  {
   "cell_type": "code",
   "execution_count": 85,
   "id": "bd4d656f",
   "metadata": {},
   "outputs": [
    {
     "data": {
      "text/plain": [
       "Power_divergenceResult(statistic=42.2414517463902, pvalue=0.9899961544091002)"
      ]
     },
     "execution_count": 85,
     "metadata": {},
     "output_type": "execute_result"
    }
   ],
   "source": [
    "chisquare(p1,f_exp=(p1+p2)/2)"
   ]
  },
  {
   "cell_type": "code",
   "execution_count": 86,
   "id": "1053a353",
   "metadata": {},
   "outputs": [
    {
     "data": {
      "text/plain": [
       "Power_divergenceResult(statistic=42.2414517463902, pvalue=0.9899961544091002)"
      ]
     },
     "execution_count": 86,
     "metadata": {},
     "output_type": "execute_result"
    }
   ],
   "source": [
    "chisquare(p2,f_exp=(p1+p2)/2)"
   ]
  },
  {
   "cell_type": "code",
   "execution_count": null,
   "id": "f421b1dc",
   "metadata": {},
   "outputs": [],
   "source": []
  },
  {
   "cell_type": "code",
   "execution_count": null,
   "id": "f38ab736",
   "metadata": {},
   "outputs": [],
   "source": []
  },
  {
   "cell_type": "code",
   "execution_count": null,
   "id": "b53851b4",
   "metadata": {},
   "outputs": [],
   "source": []
  },
  {
   "cell_type": "code",
   "execution_count": null,
   "id": "02db0f06",
   "metadata": {},
   "outputs": [],
   "source": []
  },
  {
   "cell_type": "code",
   "execution_count": 126,
   "id": "944202c4",
   "metadata": {},
   "outputs": [],
   "source": [
    "ord2_exp=load(\"no_rotation_order\")"
   ]
  },
  {
   "cell_type": "code",
   "execution_count": 127,
   "id": "7a4fd5de",
   "metadata": {},
   "outputs": [],
   "source": [
    "ord2_obs=load(\"ord2_100000\")[:50]"
   ]
  },
  {
   "cell_type": "code",
   "execution_count": 128,
   "id": "ce864ee1",
   "metadata": {},
   "outputs": [
    {
     "data": {
      "text/html": [
       "<div>\n",
       "<style scoped>\n",
       "    .dataframe tbody tr th:only-of-type {\n",
       "        vertical-align: middle;\n",
       "    }\n",
       "\n",
       "    .dataframe tbody tr th {\n",
       "        vertical-align: top;\n",
       "    }\n",
       "\n",
       "    .dataframe thead th {\n",
       "        text-align: right;\n",
       "    }\n",
       "</style>\n",
       "<table border=\"1\" class=\"dataframe\">\n",
       "  <thead>\n",
       "    <tr style=\"text-align: right;\">\n",
       "      <th></th>\n",
       "      <th>0</th>\n",
       "      <th>1</th>\n",
       "      <th>2</th>\n",
       "      <th>3</th>\n",
       "      <th>4</th>\n",
       "      <th>5</th>\n",
       "      <th>6</th>\n",
       "      <th>7</th>\n",
       "      <th>8</th>\n",
       "      <th>9</th>\n",
       "      <th>...</th>\n",
       "      <th>40</th>\n",
       "      <th>41</th>\n",
       "      <th>42</th>\n",
       "      <th>43</th>\n",
       "      <th>44</th>\n",
       "      <th>45</th>\n",
       "      <th>46</th>\n",
       "      <th>47</th>\n",
       "      <th>48</th>\n",
       "      <th>49</th>\n",
       "    </tr>\n",
       "  </thead>\n",
       "  <tbody>\n",
       "    <tr>\n",
       "      <th>0</th>\n",
       "      <td>0</td>\n",
       "      <td>1</td>\n",
       "      <td>3843</td>\n",
       "      <td>40418</td>\n",
       "      <td>56700</td>\n",
       "      <td>40824</td>\n",
       "      <td>521766</td>\n",
       "      <td>524880</td>\n",
       "      <td>0</td>\n",
       "      <td>215460</td>\n",
       "      <td>...</td>\n",
       "      <td>0</td>\n",
       "      <td>0</td>\n",
       "      <td>0</td>\n",
       "      <td>0</td>\n",
       "      <td>0</td>\n",
       "      <td>0</td>\n",
       "      <td>0</td>\n",
       "      <td>0</td>\n",
       "      <td>0</td>\n",
       "      <td>0</td>\n",
       "    </tr>\n",
       "    <tr>\n",
       "      <th>1</th>\n",
       "      <td>0</td>\n",
       "      <td>0</td>\n",
       "      <td>116</td>\n",
       "      <td>1082</td>\n",
       "      <td>1534</td>\n",
       "      <td>1138</td>\n",
       "      <td>14207</td>\n",
       "      <td>14273</td>\n",
       "      <td>0</td>\n",
       "      <td>5890</td>\n",
       "      <td>...</td>\n",
       "      <td>0</td>\n",
       "      <td>0</td>\n",
       "      <td>0</td>\n",
       "      <td>0</td>\n",
       "      <td>0</td>\n",
       "      <td>0</td>\n",
       "      <td>0</td>\n",
       "      <td>0</td>\n",
       "      <td>0</td>\n",
       "      <td>0</td>\n",
       "    </tr>\n",
       "  </tbody>\n",
       "</table>\n",
       "<p>2 rows × 50 columns</p>\n",
       "</div>"
      ],
      "text/plain": [
       "   0   1     2      3      4      5       6       7   8       9   ...  40  41  \\\n",
       "0   0   1  3843  40418  56700  40824  521766  524880   0  215460  ...   0   0   \n",
       "1   0   0   116   1082   1534   1138   14207   14273   0    5890  ...   0   0   \n",
       "\n",
       "   42  43  44  45  46  47  48  49  \n",
       "0   0   0   0   0   0   0   0   0  \n",
       "1   0   0   0   0   0   0   0   0  \n",
       "\n",
       "[2 rows x 50 columns]"
      ]
     },
     "execution_count": 128,
     "metadata": {},
     "output_type": "execute_result"
    }
   ],
   "source": [
    "df=pd.DataFrame([ord2_exp,ord2_obs])\n",
    "df"
   ]
  },
  {
   "cell_type": "code",
   "execution_count": 129,
   "id": "ad827f15",
   "metadata": {},
   "outputs": [
    {
     "data": {
      "text/html": [
       "<div>\n",
       "<style scoped>\n",
       "    .dataframe tbody tr th:only-of-type {\n",
       "        vertical-align: middle;\n",
       "    }\n",
       "\n",
       "    .dataframe tbody tr th {\n",
       "        vertical-align: top;\n",
       "    }\n",
       "\n",
       "    .dataframe thead th {\n",
       "        text-align: right;\n",
       "    }\n",
       "</style>\n",
       "<table border=\"1\" class=\"dataframe\">\n",
       "  <thead>\n",
       "    <tr style=\"text-align: right;\">\n",
       "      <th></th>\n",
       "      <th>1</th>\n",
       "      <th>2</th>\n",
       "      <th>3</th>\n",
       "      <th>4</th>\n",
       "      <th>5</th>\n",
       "      <th>6</th>\n",
       "      <th>7</th>\n",
       "      <th>9</th>\n",
       "      <th>10</th>\n",
       "      <th>12</th>\n",
       "      <th>15</th>\n",
       "      <th>18</th>\n",
       "      <th>30</th>\n",
       "      <th>36</th>\n",
       "    </tr>\n",
       "  </thead>\n",
       "  <tbody>\n",
       "    <tr>\n",
       "      <th>0</th>\n",
       "      <td>1</td>\n",
       "      <td>3843</td>\n",
       "      <td>40418</td>\n",
       "      <td>56700</td>\n",
       "      <td>40824</td>\n",
       "      <td>521766</td>\n",
       "      <td>524880</td>\n",
       "      <td>215460</td>\n",
       "      <td>122472</td>\n",
       "      <td>657720</td>\n",
       "      <td>326592</td>\n",
       "      <td>714420</td>\n",
       "      <td>244944</td>\n",
       "      <td>204120</td>\n",
       "    </tr>\n",
       "    <tr>\n",
       "      <th>1</th>\n",
       "      <td>0</td>\n",
       "      <td>116</td>\n",
       "      <td>1082</td>\n",
       "      <td>1534</td>\n",
       "      <td>1138</td>\n",
       "      <td>14207</td>\n",
       "      <td>14273</td>\n",
       "      <td>5890</td>\n",
       "      <td>3348</td>\n",
       "      <td>17622</td>\n",
       "      <td>8942</td>\n",
       "      <td>19395</td>\n",
       "      <td>6725</td>\n",
       "      <td>5728</td>\n",
       "    </tr>\n",
       "  </tbody>\n",
       "</table>\n",
       "</div>"
      ],
      "text/plain": [
       "   1     2      3      4      5       6       7       9       10      12  \\\n",
       "0   1  3843  40418  56700  40824  521766  524880  215460  122472  657720   \n",
       "1   0   116   1082   1534   1138   14207   14273    5890    3348   17622   \n",
       "\n",
       "       15      18      30      36  \n",
       "0  326592  714420  244944  204120  \n",
       "1    8942   19395    6725    5728  "
      ]
     },
     "execution_count": 129,
     "metadata": {},
     "output_type": "execute_result"
    }
   ],
   "source": [
    "df=df.loc[:, (df != 0).any(axis=0)]\n",
    "df"
   ]
  },
  {
   "cell_type": "code",
   "execution_count": 130,
   "id": "30aa3e89",
   "metadata": {},
   "outputs": [],
   "source": [
    "ord2_exp=df.iloc[0]\n",
    "ord2_obs=df.iloc[1]"
   ]
  },
  {
   "cell_type": "code",
   "execution_count": 131,
   "id": "c90abaaf",
   "metadata": {},
   "outputs": [
    {
     "data": {
      "text/plain": [
       "Power_divergenceResult(statistic=0.00013126724159307008, pvalue=1.0)"
      ]
     },
     "execution_count": 131,
     "metadata": {},
     "output_type": "execute_result"
    }
   ],
   "source": [
    "chisquare(ord2_obs/np.sum(ord2_obs),f_exp=ord2_exp/np.sum(ord2_exp))"
   ]
  },
  {
   "cell_type": "code",
   "execution_count": null,
   "id": "9b3a5b12",
   "metadata": {},
   "outputs": [],
   "source": []
  },
  {
   "cell_type": "code",
   "execution_count": null,
   "id": "325b7e1d",
   "metadata": {},
   "outputs": [],
   "source": []
  }
 ],
 "metadata": {
  "kernelspec": {
   "display_name": "test",
   "language": "python",
   "name": "test"
  },
  "language_info": {
   "codemirror_mode": {
    "name": "ipython",
    "version": 3
   },
   "file_extension": ".py",
   "mimetype": "text/x-python",
   "name": "python",
   "nbconvert_exporter": "python",
   "pygments_lexer": "ipython3",
   "version": "3.8.5"
  }
 },
 "nbformat": 4,
 "nbformat_minor": 5
}
